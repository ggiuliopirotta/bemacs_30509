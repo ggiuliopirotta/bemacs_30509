{
 "cells": [
  {
   "cell_type": "code",
   "execution_count": 1,
   "metadata": {},
   "outputs": [],
   "source": [
    "import numpy as np"
   ]
  },
  {
   "cell_type": "code",
   "execution_count": 2,
   "metadata": {},
   "outputs": [],
   "source": [
    "img_test = np.array([\n",
    "    [1.0, 2.0, 1.0, 1.0],\n",
    "    [2.0, 0.0, 0.0, 3.0],\n",
    "    [1.0, 1.0, 2.0, 0.0],\n",
    "    [2.0, 2.0, 0.5, 1.0],\n",
    "    [2.0, 1.0, 1.0, 0.0]\n",
    "])\n",
    "\n",
    "grad_test = np.array([\n",
    "    [1.0, 1.0 , 0.5, 0.0],\n",
    "    [2.0, 1.0 , 1.5, 3.0],\n",
    "    [0.0, 0.5 , 1.5, 2.0],\n",
    "    [0.0, 0.75, 1.0, 0.5],\n",
    "    [1.0, 0.5 , 0.5, 1.0]\n",
    "])\n",
    "\n",
    "seam_test = np.array([2, 1, 0, 0, 1])\n",
    "\n",
    "img_red_test = np.array([\n",
    "    [1.0, 2.0, 1.0],\n",
    "    [2.0, 0.0, 3.0],\n",
    "    [1.0, 2.0, 0.0],\n",
    "    [2.0, 0.5, 1.0],\n",
    "    [2.0, 1.0, 0.0]\n",
    "])"
   ]
  },
  {
   "cell_type": "code",
   "execution_count": 3,
   "metadata": {},
   "outputs": [],
   "source": [
    "def get_grad(img):\n",
    "    n, m = img.shape\n",
    "\n",
    "    grad = np.zeros((n, m))\n",
    "    grad[:, 0] = np.abs(img[:, 0]-img[:, 1])\n",
    "    grad[:, 1:-1] = (np.abs(img[:, 1:-1]-img[:, 0:-2]) + np.abs(img[:, 1:-1]-img[:, 2:]))/2\n",
    "    grad[:, -1] = np.abs(img[:, -1]-img[:, -2])\n",
    "\n",
    "    return grad\n",
    "\n",
    "def test_get_grad(img, grad_true):\n",
    "    grad = get_grad(img)\n",
    "    assert np.array_equal(grad, grad_true)"
   ]
  },
  {
   "cell_type": "code",
   "execution_count": 4,
   "metadata": {},
   "outputs": [
    {
     "name": "stdout",
     "output_type": "stream",
     "text": [
      "[[1.   1.   0.5  0.  ]\n",
      " [2.   1.   1.5  3.  ]\n",
      " [0.   0.5  1.5  2.  ]\n",
      " [0.   0.75 1.   0.5 ]\n",
      " [1.   0.5  0.5  1.  ]]\n"
     ]
    }
   ],
   "source": [
    "grad = get_grad(img_test)\n",
    "print(grad)\n",
    "\n",
    "test_get_grad(img_test, grad_test)"
   ]
  },
  {
   "cell_type": "code",
   "execution_count": 5,
   "metadata": {},
   "outputs": [],
   "source": [
    "def get_seam(grad):\n",
    "    n, m = grad.shape\n",
    "\n",
    "    c = np.zeros((n, m))\n",
    "    c[0] = grad[0]\n",
    "\n",
    "    c_left, c_top, c_right = np.zeros((n, m)), np.zeros((n, m)), np.zeros((n, m))\n",
    "    c_min = np.zeros((n, m))\n",
    "    whence = np.zeros((n, m))\n",
    "\n",
    "    c_left[0], c_top[0], c_right[0] = np.inf, np.inf, np.inf\n",
    "    c_min[0], whence[0] = np.inf, np.inf\n",
    "\n",
    "    for i in range(1, n):\n",
    "        c_left[i, 0] = np.inf\n",
    "        c_left[i, 1:] = c[i-1, :-1]\n",
    "\n",
    "        c_top[i, :] = c[i-1, :]\n",
    "\n",
    "        c_right[i, :-1] = c[i-1, 1:]\n",
    "        c_right[i, -1] = np.inf\n",
    "\n",
    "        c_min[i] = np.min((c_left[i], c_top[i], c_right[i]), axis=0)\n",
    "        c[i] = c_min[i]+grad[i]\n",
    "\n",
    "        whence[i, c_min[i] == c_left[i]] = -1\n",
    "        whence[i, c_min[i] == c_top[i]] = 0\n",
    "        whence[i, c_min[i] == c_right[i]] = 1\n",
    "\n",
    "    seam = np.zeros(n, dtype=int)\n",
    "    js = np.argmin(c[-1, :])\n",
    "\n",
    "    for i in reversed(range(n)):\n",
    "        seam[i] = js\n",
    "        js += whence[i, int (js)]\n",
    "\n",
    "    return seam\n",
    "\n",
    "def test_get_seam(grad, seam_true):\n",
    "    seam = get_seam(grad)\n",
    "    assert np.array_equal(seam, seam_true)"
   ]
  },
  {
   "cell_type": "code",
   "execution_count": 6,
   "metadata": {},
   "outputs": [
    {
     "name": "stdout",
     "output_type": "stream",
     "text": [
      "[2 1 0 0 1]\n"
     ]
    }
   ],
   "source": [
    "seam = get_seam(grad_test)\n",
    "print(seam)\n",
    "\n",
    "test_get_seam(grad_test, seam_test)"
   ]
  },
  {
   "cell_type": "code",
   "execution_count": 7,
   "metadata": {},
   "outputs": [],
   "source": [
    "def get_carve(img, seam):\n",
    "    n, m = img.shape\n",
    "\n",
    "    img_new = np.zeros((n, m-1))\n",
    "    for i in range(n):\n",
    "        js = seam[i]\n",
    "        img_new[i, :js] = img[i, :js]\n",
    "        img_new[i, js:] = img[i, js+1:]\n",
    "\n",
    "    return img_new\n",
    "\n",
    "def test_get_carve(img, seam, carve_true):\n",
    "    img_new = get_carve(img, seam)\n",
    "    assert np.array_equal(img_new, carve_true)"
   ]
  },
  {
   "cell_type": "code",
   "execution_count": 8,
   "metadata": {},
   "outputs": [
    {
     "name": "stdout",
     "output_type": "stream",
     "text": [
      "[[1.  2.  1. ]\n",
      " [2.  0.  3. ]\n",
      " [1.  2.  0. ]\n",
      " [2.  0.5 1. ]\n",
      " [2.  1.  0. ]]\n"
     ]
    }
   ],
   "source": [
    "carve = get_carve(img_test, seam)\n",
    "print(carve)\n",
    "\n",
    "test_get_carve(img_test, seam, img_red_test)"
   ]
  },
  {
   "cell_type": "code",
   "execution_count": 9,
   "metadata": {},
   "outputs": [],
   "source": [
    "def get_seam_carve(img):\n",
    "    grad = get_grad(img)\n",
    "    seam = get_seam(grad)\n",
    "    carve = get_carve(img, seam)\n",
    "\n",
    "    return carve\n",
    "\n",
    "def test_seam_carve(img, img_red_true):\n",
    "    img_new = get_seam_carve(img)\n",
    "    assert np.array_equal(img_new, img_red_true)"
   ]
  },
  {
   "cell_type": "code",
   "execution_count": 10,
   "metadata": {},
   "outputs": [
    {
     "name": "stdout",
     "output_type": "stream",
     "text": [
      "[[1.  2.  1. ]\n",
      " [2.  0.  3. ]\n",
      " [1.  2.  0. ]\n",
      " [2.  0.5 1. ]\n",
      " [2.  1.  0. ]]\n"
     ]
    }
   ],
   "source": [
    "carve = get_seam_carve(img_test)\n",
    "print(carve)\n",
    "\n",
    "test_seam_carve(img_test, img_red_test)"
   ]
  }
 ],
 "metadata": {
  "kernelspec": {
   "display_name": "Python 3",
   "language": "python",
   "name": "python3"
  },
  "language_info": {
   "codemirror_mode": {
    "name": "ipython",
    "version": 3
   },
   "file_extension": ".py",
   "mimetype": "text/x-python",
   "name": "python",
   "nbconvert_exporter": "python",
   "pygments_lexer": "ipython3",
   "version": "3.9.7"
  },
  "orig_nbformat": 4,
  "vscode": {
   "interpreter": {
    "hash": "875f7ded89bce07e7810f7135ba73687240f526d58a2b7da37f8461a08ec36a4"
   }
  }
 },
 "nbformat": 4,
 "nbformat_minor": 2
}
